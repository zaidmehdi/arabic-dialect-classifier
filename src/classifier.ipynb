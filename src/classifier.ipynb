{
 "cells": [
  {
   "cell_type": "markdown",
   "metadata": {},
   "source": [
    "# Arabic Dialect Classifier\n",
    "This notebook contains the training of the classifier model."
   ]
  },
  {
   "cell_type": "code",
   "execution_count": 1,
   "metadata": {},
   "outputs": [],
   "source": [
    "import pandas as pd"
   ]
  },
  {
   "cell_type": "markdown",
   "metadata": {},
   "source": [
    "## 1. Exploring the Dataset"
   ]
  },
  {
   "cell_type": "code",
   "execution_count": 5,
   "metadata": {},
   "outputs": [],
   "source": [
    "df_train = pd.read_csv(\"../data/DA_train_labeled.tsv\", sep=\"\\t\")\n",
    "df_test = pd.read_csv(\"../data/DA_dev_labeled.tsv\", sep=\"\\t\")"
   ]
  },
  {
   "cell_type": "code",
   "execution_count": 6,
   "metadata": {},
   "outputs": [
    {
     "data": {
      "text/html": [
       "<div>\n",
       "<style scoped>\n",
       "    .dataframe tbody tr th:only-of-type {\n",
       "        vertical-align: middle;\n",
       "    }\n",
       "\n",
       "    .dataframe tbody tr th {\n",
       "        vertical-align: top;\n",
       "    }\n",
       "\n",
       "    .dataframe thead th {\n",
       "        text-align: right;\n",
       "    }\n",
       "</style>\n",
       "<table border=\"1\" class=\"dataframe\">\n",
       "  <thead>\n",
       "    <tr style=\"text-align: right;\">\n",
       "      <th></th>\n",
       "      <th>#1_tweetid</th>\n",
       "      <th>#2_tweet</th>\n",
       "      <th>#3_country_label</th>\n",
       "      <th>#4_province_label</th>\n",
       "    </tr>\n",
       "  </thead>\n",
       "  <tbody>\n",
       "    <tr>\n",
       "      <th>0</th>\n",
       "      <td>TRAIN_0</td>\n",
       "      <td>حاجة حلوة اكيد</td>\n",
       "      <td>Egypt</td>\n",
       "      <td>eg_Faiyum</td>\n",
       "    </tr>\n",
       "    <tr>\n",
       "      <th>1</th>\n",
       "      <td>TRAIN_1</td>\n",
       "      <td>عم بشتغلوا للشعب الاميركي اما نحن يكذبوا ويغشو...</td>\n",
       "      <td>Iraq</td>\n",
       "      <td>iq_Dihok</td>\n",
       "    </tr>\n",
       "    <tr>\n",
       "      <th>2</th>\n",
       "      <td>TRAIN_2</td>\n",
       "      <td>ابشر طال عمرك</td>\n",
       "      <td>Saudi_Arabia</td>\n",
       "      <td>sa_Ha'il</td>\n",
       "    </tr>\n",
       "    <tr>\n",
       "      <th>3</th>\n",
       "      <td>TRAIN_3</td>\n",
       "      <td>منطق 2017: أنا والغريب علي إبن عمي وأنا والغري...</td>\n",
       "      <td>Mauritania</td>\n",
       "      <td>mr_Nouakchott</td>\n",
       "    </tr>\n",
       "    <tr>\n",
       "      <th>4</th>\n",
       "      <td>TRAIN_4</td>\n",
       "      <td>شهرين وتروح والباقي غير صيف ملينا</td>\n",
       "      <td>Algeria</td>\n",
       "      <td>dz_El-Oued</td>\n",
       "    </tr>\n",
       "  </tbody>\n",
       "</table>\n",
       "</div>"
      ],
      "text/plain": [
       "  #1_tweetid                                           #2_tweet  \\\n",
       "0    TRAIN_0                                     حاجة حلوة اكيد   \n",
       "1    TRAIN_1  عم بشتغلوا للشعب الاميركي اما نحن يكذبوا ويغشو...   \n",
       "2    TRAIN_2                                      ابشر طال عمرك   \n",
       "3    TRAIN_3  منطق 2017: أنا والغريب علي إبن عمي وأنا والغري...   \n",
       "4    TRAIN_4                  شهرين وتروح والباقي غير صيف ملينا   \n",
       "\n",
       "  #3_country_label #4_province_label  \n",
       "0            Egypt         eg_Faiyum  \n",
       "1             Iraq          iq_Dihok  \n",
       "2     Saudi_Arabia          sa_Ha'il  \n",
       "3       Mauritania     mr_Nouakchott  \n",
       "4          Algeria        dz_El-Oued  "
      ]
     },
     "execution_count": 6,
     "metadata": {},
     "output_type": "execute_result"
    }
   ],
   "source": [
    "df_train.head()"
   ]
  },
  {
   "cell_type": "code",
   "execution_count": 7,
   "metadata": {},
   "outputs": [
    {
     "data": {
      "text/html": [
       "<div>\n",
       "<style scoped>\n",
       "    .dataframe tbody tr th:only-of-type {\n",
       "        vertical-align: middle;\n",
       "    }\n",
       "\n",
       "    .dataframe tbody tr th {\n",
       "        vertical-align: top;\n",
       "    }\n",
       "\n",
       "    .dataframe thead th {\n",
       "        text-align: right;\n",
       "    }\n",
       "</style>\n",
       "<table border=\"1\" class=\"dataframe\">\n",
       "  <thead>\n",
       "    <tr style=\"text-align: right;\">\n",
       "      <th></th>\n",
       "      <th>#1_tweetid</th>\n",
       "      <th>#2_tweet</th>\n",
       "      <th>#3_country_label</th>\n",
       "      <th>#4_province_label</th>\n",
       "    </tr>\n",
       "  </thead>\n",
       "  <tbody>\n",
       "    <tr>\n",
       "      <th>0</th>\n",
       "      <td>DEV_0</td>\n",
       "      <td>قولنا اون لاين لا يا علي اون لاين لا</td>\n",
       "      <td>Egypt</td>\n",
       "      <td>eg_Alexandria</td>\n",
       "    </tr>\n",
       "    <tr>\n",
       "      <th>1</th>\n",
       "      <td>DEV_1</td>\n",
       "      <td>ههههه بايخه ههههه URL  …</td>\n",
       "      <td>Oman</td>\n",
       "      <td>om_Muscat</td>\n",
       "    </tr>\n",
       "    <tr>\n",
       "      <th>2</th>\n",
       "      <td>DEV_2</td>\n",
       "      <td>ربنا يخليك يا دوك ولك المثل :D</td>\n",
       "      <td>Lebanon</td>\n",
       "      <td>lb_South-Lebanon</td>\n",
       "    </tr>\n",
       "    <tr>\n",
       "      <th>3</th>\n",
       "      <td>DEV_3</td>\n",
       "      <td>#اوامر_ملكيه ياشباب اي واحد فيكم عنده شي يذكره...</td>\n",
       "      <td>Syria</td>\n",
       "      <td>sy_Damascus-City</td>\n",
       "    </tr>\n",
       "    <tr>\n",
       "      <th>4</th>\n",
       "      <td>DEV_4</td>\n",
       "      <td>شد عالخط حتى هيا اكويسه</td>\n",
       "      <td>Libya</td>\n",
       "      <td>ly_Misrata</td>\n",
       "    </tr>\n",
       "  </tbody>\n",
       "</table>\n",
       "</div>"
      ],
      "text/plain": [
       "  #1_tweetid                                           #2_tweet  \\\n",
       "0      DEV_0               قولنا اون لاين لا يا علي اون لاين لا   \n",
       "1      DEV_1                           ههههه بايخه ههههه URL  …   \n",
       "2      DEV_2                     ربنا يخليك يا دوك ولك المثل :D   \n",
       "3      DEV_3  #اوامر_ملكيه ياشباب اي واحد فيكم عنده شي يذكره...   \n",
       "4      DEV_4                            شد عالخط حتى هيا اكويسه   \n",
       "\n",
       "  #3_country_label #4_province_label  \n",
       "0            Egypt     eg_Alexandria  \n",
       "1             Oman         om_Muscat  \n",
       "2          Lebanon  lb_South-Lebanon  \n",
       "3            Syria  sy_Damascus-City  \n",
       "4            Libya        ly_Misrata  "
      ]
     },
     "execution_count": 7,
     "metadata": {},
     "output_type": "execute_result"
    }
   ],
   "source": [
    "df_test.head()"
   ]
  },
  {
   "cell_type": "markdown",
   "metadata": {},
   "source": [
    "## 2. Training the Classifier"
   ]
  },
  {
   "cell_type": "markdown",
   "metadata": {},
   "source": [
    "## 3. Evaluating the Performance"
   ]
  }
 ],
 "metadata": {
  "kernelspec": {
   "display_name": "adc",
   "language": "python",
   "name": "python3"
  },
  "language_info": {
   "codemirror_mode": {
    "name": "ipython",
    "version": 3
   },
   "file_extension": ".py",
   "mimetype": "text/x-python",
   "name": "python",
   "nbconvert_exporter": "python",
   "pygments_lexer": "ipython3",
   "version": "3.11.7"
  }
 },
 "nbformat": 4,
 "nbformat_minor": 2
}
